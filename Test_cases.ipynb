{
  "nbformat": 4,
  "nbformat_minor": 0,
  "metadata": {
    "colab": {
      "provenance": []
    },
    "kernelspec": {
      "name": "python3",
      "display_name": "Python 3"
    },
    "language_info": {
      "name": "python"
    }
  },
  "cells": [
    {
      "cell_type": "markdown",
      "source": [
        "**test_register_invalid_email_format**\n",
        "Purpose: Rejects invalid email formats during registration."
      ],
      "metadata": {
        "id": "3oTy30Ayx3e4"
      }
    },
    {
      "cell_type": "code",
      "execution_count": 4,
      "metadata": {
        "id": "Adri8VN_xlIG"
      },
      "outputs": [],
      "source": [
        "def test_register_invalid_email_format(self):\n",
        "    response = self.client.post('/register', json={\n",
        "        \"first_name\": \"Gokul\",\n",
        "        \"last_name\": \"Nair\",\n",
        "        \"email\": \"gokul@example.com\",  # invalid email\n",
        "        \"password\": \"12345678\",\n",
        "        \"confirm_password\": \"12345678\"\n",
        "    })\n",
        "    self.assertEqual(response.status_code, 400)\n",
        "    self.assertIn(b\"Invalid email format\", response.data)\n"
      ]
    },
    {
      "cell_type": "markdown",
      "source": [
        "**test_register_duplicate_email**\n",
        "Purpose: Prevents duplicate registration with the same email."
      ],
      "metadata": {
        "id": "03w6TeX0x-dT"
      }
    },
    {
      "cell_type": "code",
      "source": [
        "def test_register_duplicate_email(self):\n",
        "    self.client.post('/register', json={\n",
        "        \"first_name\": \"Raj\",\n",
        "        \"last_name\": \"Singh\",\n",
        "        \"email\": \"raj@example.com\",\n",
        "        \"password\": \"pass1234\",\n",
        "        \"confirm_password\": \"pass1234\"\n",
        "    })\n",
        "\n",
        "    response = self.client.post('/register', json={\n",
        "        \"first_name\": \"Raj\",\n",
        "        \"last_name\": \"Singh\",\n",
        "        \"email\": \"raj@example.com\",\n",
        "        \"password\": \"pass1234\",\n",
        "        \"confirm_password\": \"pass1234\"\n",
        "    })\n",
        "    self.assertEqual(response.status_code, 400)\n",
        "    self.assertIn(b\"Email already exists\", response.data)\n"
      ],
      "metadata": {
        "id": "ESgdLIT8yDVw"
      },
      "execution_count": 5,
      "outputs": []
    },
    {
      "cell_type": "markdown",
      "source": [
        "**test_login_unregistered_user**\n",
        "Purpose: Prevents login attempt with an unregistered email."
      ],
      "metadata": {
        "id": "Nnqxmh0WycEF"
      }
    },
    {
      "cell_type": "code",
      "source": [
        "def test_login_unregistered_user(self):\n",
        "    response = self.client.post('/login', json={\n",
        "        \"email\": \"notfound@example.com\",\n",
        "        \"password\": \"somepassword\"\n",
        "    })\n",
        "    self.assertEqual(response.status_code, 401)\n",
        "    self.assertIn(b\"Invalid email or password\", response.data)\n"
      ],
      "metadata": {
        "id": "Hv_hfxQIyhM4"
      },
      "execution_count": 6,
      "outputs": []
    },
    {
      "cell_type": "markdown",
      "source": [
        "**test_register_short_password**\n",
        "Purpose: Validates that passwords below a minimum length are rejected."
      ],
      "metadata": {
        "id": "pIp4_Kwiyp6v"
      }
    },
    {
      "cell_type": "code",
      "source": [
        "def test_register_short_password(self):\n",
        "    response = self.client.post('/register', json={\n",
        "        \"first_name\": \"Tiny\",\n",
        "        \"last_name\": \"User\",\n",
        "        \"email\": \"tiny@example.com\",\n",
        "        \"password\": \"123\",\n",
        "        \"confirm_password\": \"123\"\n",
        "    })\n",
        "    self.assertEqual(response.status_code, 400)\n",
        "    self.assertIn(b\"Password too short\", response.data)\n"
      ],
      "metadata": {
        "id": "H-losFucyslf"
      },
      "execution_count": 7,
      "outputs": []
    },
    {
      "cell_type": "markdown",
      "source": [
        "**test_case_insensitive_email_login**\n",
        "Purpose: Ensure login is case-insensitive for email."
      ],
      "metadata": {
        "id": "CEWXy9p9yzp1"
      }
    },
    {
      "cell_type": "code",
      "source": [
        "def test_case_insensitive_email_login(self):\n",
        "    # Register with lowercase email\n",
        "    self.client.post('/register', json={\n",
        "        \"first_name\": \"Rahul\",\n",
        "        \"last_name\": \"Sensitive\",\n",
        "        \"email\": \"rahul@example.com\",\n",
        "        \"password\": \"casepass\",\n",
        "        \"confirm_password\": \"casepass\"\n",
        "    })\n",
        "\n",
        "    # Try logging in with uppercase email\n",
        "    response = self.client.post('/login', json={\n",
        "        \"email\": \"RAHUL@EXAMPLE.COM\",\n",
        "        \"password\": \"casepass\"\n",
        "    })\n",
        "    self.assertEqual(response.status_code, 200)\n",
        "    self.assertIn(b\"Welcome Rahul Sensitive\", response.data)\n"
      ],
      "metadata": {
        "id": "f084QHV0y34a"
      },
      "execution_count": 8,
      "outputs": []
    }
  ]
}